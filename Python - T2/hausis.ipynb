{
 "cells": [
  {
   "cell_type": "code",
   "execution_count": null,
   "metadata": {},
   "outputs": [],
   "source": [
    "\"\"\"\n",
    "Aufgabe 1:\n",
    "Wandle die folgenden Zeilen in LC um.\n",
    "\"\"\"\n",
    "\n",
    "listy = []\n",
    "for i in range(1000):\n",
    "    listy.append(i)\n",
    "\n",
    "print(listy)\n"
   ]
  },
  {
   "cell_type": "code",
   "execution_count": null,
   "metadata": {},
   "outputs": [],
   "source": [
    "listy = [i for i in range(1000)]\n",
    "\n",
    "print(listy)"
   ]
  },
  {
   "cell_type": "code",
   "execution_count": null,
   "metadata": {},
   "outputs": [],
   "source": [
    "\"\"\"\n",
    "Aufgabe 2:\n",
    "Wandle die folgenden Zeilen in LC um.\n",
    "\"\"\"\n",
    "\n",
    "fruits = {\"apple\", \"banana\", \"cherry\", \"kiwi\", \"mango\"}\n",
    "\n",
    "fav_fruits = set()\n",
    "for elem in fruits:\n",
    "    if \"e\" in elem:\n",
    "        fav_fruits.add(elem)\n",
    "\n",
    "print(fav_fruits)\n"
   ]
  },
  {
   "cell_type": "code",
   "execution_count": null,
   "metadata": {},
   "outputs": [],
   "source": [
    "fruits = {\"apple\", \"banana\", \"cherry\", \"kiwi\", \"mango\"}\n",
    "\n",
    "fav_fruits = {elem for elem in fruits if \"e\" in elem }\n",
    "\n",
    "print(fav_fruits)\n"
   ]
  },
  {
   "cell_type": "code",
   "execution_count": null,
   "metadata": {},
   "outputs": [],
   "source": [
    "\"\"\"\n",
    "Aufgabe 3:\n",
    "Wandle die folgenden Zeilen in LC um.\n",
    "\"\"\"\n",
    "\n",
    "grades = [(\"Albert\", 2), (\"Bruno\", 4), (\"Carla\", 1)]\n",
    "\n",
    "_grades = {}\n",
    "for name, grade in grades:\n",
    "    _grades[name] = grade\n",
    "\n",
    "print(_grades)\n",
    "\n"
   ]
  },
  {
   "cell_type": "code",
   "execution_count": null,
   "metadata": {},
   "outputs": [],
   "source": [
    "grades = [(\"Albert\", 2), (\"Bruno\", 4), (\"Carla\", 1)]\n",
    "\n",
    "_grades = {name: grade for name, ggrade in grades}              #name = Key #grade = Wert\n",
    "\n",
    "print(_grades)"
   ]
  },
  {
   "cell_type": "code",
   "execution_count": null,
   "metadata": {},
   "outputs": [],
   "source": [
    "\"\"\"\n",
    "Bonus:\n",
    "Implementiere die folgenden Funktionen für den Datensatz articles.\n",
    "Orientiere dich an den Kommentaren innerhalb der Funktion.\n",
    "Hinweis: Versuche es mit LC zu lösen. Falls nicht möglich, dann\n",
    "versuche es zunächst konventionell und anschließend mit LC.\n",
    "\n",
    "Beispielaufrufe findest du unten.\n",
    "\"\"\"\n",
    "\n",
    "def filter_by_max_price(seq:list[dict], max_price:float) -> list[dict]:\n",
    "    \"\"\"Returns a list with all articles that cost less than (or are equal to) max_price.\"\"\"\n",
    "    pass\n",
    "\n",
    "\n",
    "def get_sublists_by_key(seq:list[dict], key:str) -> dict[str, list]:\n",
    "    \"\"\"Groups all elements of seq by key into a dict.\"\"\"\n",
    "    \"\"\"example:\n",
    "    {\n",
    "        \"black\": [...],\n",
    "        \"white\": [...],\n",
    "        \"beige\": [...]\n",
    "    }\n",
    "    \"\"\"\n",
    "    pass\n",
    "\n",
    "articles = [\n",
    "    {\"name\": \"JABRA ELITE 7 ACTIVE\", \"color\": \"black\", \"category\": \"headphones\", \"price\": 234.23},\n",
    "    {\"name\": \"SONY WF-C500\", \"color\": \"white\", \"category\": \"headphones\", \"price\": 139.44},\n",
    "    {\"name\": \"JBL Tune 230NC\", \"color\": \"black\", \"category\": \"headphones\", \"price\": 3252.21},\n",
    "    {\"name\": \"SENNHEISER SPORT\", \"color\": \"beige\", \"category\": \"headphones\", \"price\": 954.25},\n",
    "    {\"name\": \"XIAOMI Redmi Buds 3 Lite\", \"color\": \"black\", \"category\": \"headphones\", \"price\": 21.1},\n",
    "    {\"name\": \"APPLE AirPods Pro \", \"color\": \"white\", \"category\": \"headphones\", \"price\": 323.49},\n",
    "    {\"name\": \"Sonnenblumenöl\", \"color\": \"gold\", \"category\": \"other\", \"price\": float(\"inf\")}\n",
    "]\n",
    "\n",
    "print(filter_by_max_price(articles, 100.0))\n",
    "# Erwartete Ausgabe: [{'name': 'XIAOMI Redmi Buds 3 Lite', 'color': 'black', 'category': 'headphones', 'price': 21.1}]\n",
    "print()\n",
    "\n",
    "print(get_sublists_by_key(articles, \"color\"))\n",
    "\"\"\"Erwartete Ausgabe: \n",
    "{\n",
    "'black': [  {'name': 'JABRA ELITE 7 ACTIVE', 'color': 'black', 'category': 'headphones', 'price': 234.23}, \n",
    "            {'name': 'JBL Tune 230NC', 'color': 'black', 'category': 'headphones', 'price': 3252.21}, \n",
    "            {'name': 'XIAOMI Redmi Buds 3 Lite', 'color': 'black', 'category': 'headphones', 'price': 21.1}], \n",
    "'white': [  {'name': 'SONY WF-C500', 'color': 'white', 'category': 'headphones', 'price': 139.44}, \n",
    "            {'name': 'APPLE AirPods Pro ', 'color': 'white', 'category': 'headphones', 'price': 323.49}], \n",
    "'beige': [  {'name': 'SENNHEISER SPORT', 'color': 'beige', 'category': 'headphones', 'price': 954.25}], \n",
    "'gold': [   {'name': 'Sonnenblumenöl', 'color': 'gold', 'category': 'other', 'price': inf}]\n",
    "}\n",
    "\"\"\"\n",
    "print()\n",
    "\n",
    "print(get_sublists_by_key(articles, \"category\"))\n",
    "\"\"\"Erwartete Ausgabe:\n",
    "{\n",
    "'headphones': [{'name': 'JABRA ELITE 7 ACTIVE', 'color': 'black', 'category': 'headphones', 'price': 234.23}, {'name': 'SONY WF-C500', 'color': 'white', 'category': 'headphones', 'price': 139.44}, {'name': 'JBL Tune 230NC', 'color': 'black', 'category': 'headphones', 'price': 3252.21}, {'name': 'SENNHEISER SPORT', 'color': 'beige', 'category': 'headphones', 'price': 954.25}, {'name': 'XIAOMI Redmi Buds 3 Lite', 'color': 'black', 'category': 'headphones', 'price': 21.1}, {'name': 'APPLE AirPods Pro ', 'color': 'white', 'category': 'headphones', 'price': 323.49}], \n",
    "'other': [{'name': 'Sonnenblumenöl', 'color': 'gold', 'category': 'other', 'price': inf}]\n",
    "}\n",
    "\"\"\""
   ]
  }
 ],
 "metadata": {
  "kernelspec": {
   "display_name": "Python 3",
   "language": "python",
   "name": "python3"
  },
  "language_info": {
   "codemirror_mode": {
    "name": "ipython",
    "version": 3
   },
   "file_extension": ".py",
   "mimetype": "text/x-python",
   "name": "python",
   "nbconvert_exporter": "python",
   "pygments_lexer": "ipython3",
   "version": "3.11.0"
  },
  "orig_nbformat": 4
 },
 "nbformat": 4,
 "nbformat_minor": 2
}
